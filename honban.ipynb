{
 "cells": [
  {
   "cell_type": "code",
   "execution_count": null,
   "metadata": {},
   "outputs": [],
   "source": [
    "#スクレイピング、クローリングする際はサイトの利用規約を読むこと。\n",
    "#サーバーに負荷をかけないようにrequests.get()したあとはtime.sleep(3)くらい停止させること"
   ]
  },
  {
   "cell_type": "code",
   "execution_count": null,
   "metadata": {},
   "outputs": [],
   "source": [
    "import os\n",
    "import requests\n",
    "from bs4 import BeautifulSoup\n",
    "import re"
   ]
  },
  {
   "cell_type": "code",
   "execution_count": null,
   "metadata": {},
   "outputs": [],
   "source": [
    "links =[]\n",
    "images_url=[]\n",
    "count=0"
   ]
  },
  {
   "cell_type": "code",
   "execution_count": null,
   "metadata": {},
   "outputs": [],
   "source": [
    "if not os.path.exists('./picture_fgo_test'):\n",
    "    os.mkdir('./picture_fgo_test')"
   ]
  },
  {
   "cell_type": "code",
   "execution_count": null,
   "metadata": {},
   "outputs": [],
   "source": [
    "response = requests.get('https://wall.alphacoders.com/by_sub_category.php?id=239594&name=Fate%2FGrand+Order+Wallpapers&page=2')\n",
    "soup = BeautifulSoup(response.text,'lxml')\n",
    "print(soup)"
   ]
  },
  {
   "cell_type": "code",
   "execution_count": null,
   "metadata": {},
   "outputs": [],
   "source": [
    "src = soup.findAll('img')\n",
    "print(src)"
   ]
  },
  {
   "cell_type": "code",
   "execution_count": null,
   "metadata": {},
   "outputs": [],
   "source": [
    "for link in src:\n",
    "    links.append(link.get('data-src'))\n",
    "print(links)"
   ]
  },
  {
   "cell_type": "code",
   "execution_count": null,
   "metadata": {},
   "outputs": [],
   "source": [
    "for link in links:\n",
    "    if type(link) is str and link.startswith('https://images'):\n",
    "        print(type(link))\n",
    "        print(link)\n",
    "        print(re.sub('thumb-[0-9]+-','',link))\n",
    "        images_url.append(re.sub('thumb-[0-9]+-','',link))"
   ]
  },
  {
   "cell_type": "code",
   "execution_count": null,
   "metadata": {},
   "outputs": [],
   "source": [
    "\n",
    "for loop in images_url:\n",
    "    responce_fgo = requests.get(loop) \n",
    "    print(count)\n",
    "    with open(str('./picture_fgo_test/')+str(count)+str('.png'),'wb') as file:\n",
    "        file.write(responce_fgo.content)\n",
    "        count+=1"
   ]
  },
  {
   "cell_type": "code",
   "execution_count": null,
   "metadata": {},
   "outputs": [],
   "source": [
    "import datetime\n",
    "\n",
    "jp_dt_now = datetime.datetime.now() + datetime.timedelta(hours = 9)\n",
    "\n",
    "print(jp_dt_now)\n",
    "print(type(jp_dt_now))\n",
    "print(jp_dt_now.strftime('%Y_%m_%d_%H:%M'))"
   ]
  },
  {
   "cell_type": "code",
   "execution_count": null,
   "metadata": {},
   "outputs": [],
   "source": [
    "print(dt_now.strftime('%Y年%m月%d日 %H:%M:%S'))"
   ]
  },
  {
   "cell_type": "markdown",
   "metadata": {},
   "source": [
    "# 本番"
   ]
  },
  {
   "cell_type": "code",
   "execution_count": null,
   "metadata": {},
   "outputs": [],
   "source": [
    "import os\n",
    "import requests\n",
    "from bs4 import BeautifulSoup\n",
    "import re\n",
    "import datetime\n",
    "import time\n",
    "count=0\n",
    "if not os.path.exists('./picture_fgo_test'):\n",
    "    os.mkdir('./picture_fgo_test')\n",
    "for pages in range(56,78):\n",
    "    print('=======================')\n",
    "    print(str(pages)+'ページをスクレイピングします。')\n",
    "    jp_dt_now = datetime.datetime.now() + datetime.timedelta(hours = 9)\n",
    "    bs_links =[]\n",
    "    images_url=[]\n",
    "    \n",
    "    r = requests.get \\\n",
    "    (\"https://wall.alphacoders.com/by_sub_category.php?id=239594&name=Fate%2FGrand+Order+Wallpapers&page=\"+str(pages))\n",
    "    print('urlを取得しました。サーバー負荷軽減のため、3秒間停止します。')\n",
    "    time.sleep(3)\n",
    "    r.encoding = r.apparent_encoding\n",
    "    soup = BeautifulSoup(r.text,'lxml')\n",
    "    bs_src = soup.findAll('img')\n",
    "    for bs_link in bs_src:\n",
    "        bs_links.append(bs_link.get('data-src'))\n",
    "    for bs_link in bs_links:\n",
    "        if type(bs_link) is str and bs_link.startswith('https://images'):\n",
    "            #print(type(link))\n",
    "            print(bs_link)\n",
    "            print(re.sub('thumb-[0-9]+-','',bs_link))\n",
    "            images_url.append(re.sub('thumb-[0-9]+-','',bs_link))\n",
    "    for loop in images_url:\n",
    "        responce_fgo = requests.get(loop)\n",
    "        print('画像urlを取得しました。サーバー負荷軽減のため、3秒間停止します。')\n",
    "        time.sleep(3)\n",
    "        print(count)\n",
    "        with open(str('./picture_fgo_test/')+str(jp_dt_now.strftime('%Y_%m_%d_%H:%M'))+\"_\"+str(count)+str('.png'),'wb') as file:\n",
    "            file.write(responce_fgo.content)\n",
    "            count+=1"
   ]
  },
  {
   "cell_type": "code",
   "execution_count": null,
   "metadata": {},
   "outputs": [],
   "source": []
  },
  {
   "cell_type": "code",
   "execution_count": null,
   "metadata": {},
   "outputs": [],
   "source": []
  },
  {
   "cell_type": "code",
   "execution_count": null,
   "metadata": {},
   "outputs": [],
   "source": []
  },
  {
   "cell_type": "code",
   "execution_count": null,
   "metadata": {},
   "outputs": [],
   "source": []
  },
  {
   "cell_type": "code",
   "execution_count": null,
   "metadata": {},
   "outputs": [],
   "source": []
  },
  {
   "cell_type": "code",
   "execution_count": null,
   "metadata": {},
   "outputs": [],
   "source": []
  }
 ],
 "metadata": {
  "kernelspec": {
   "display_name": "3.6.9",
   "language": "python",
   "name": "3.6.9"
  },
  "language_info": {
   "codemirror_mode": {
    "name": "ipython",
    "version": 3
   },
   "file_extension": ".py",
   "mimetype": "text/x-python",
   "name": "python",
   "nbconvert_exporter": "python",
   "pygments_lexer": "ipython3",
   "version": "3.6.9"
  }
 },
 "nbformat": 4,
 "nbformat_minor": 4
}
